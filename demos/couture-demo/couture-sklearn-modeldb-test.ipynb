{
 "cells": [
  {
   "cell_type": "markdown",
   "metadata": {},
   "source": [
    "# ModelDB Features Demo -- couture.ai\n",
    "\n",
    "This notebook runs a sample sci-kit model and connects it to a running ModelDB instance -- using ModelDB for model repository and expriment logging.\n",
    "\n",
    "The scikit model used is available in [scikit documentatation](https://scikit-learn.org/stable/tutorial/basic/tutorial.html)  \n",
    "\n",
    "ModelDB references:\n",
    "\n",
    "- [this blog by the founder](https://blog.verta.ai/blog/model-versioning-done-right-a-modeldb-2.0-walkthrough)\n",
    "- [webinar 1 code](https://github.com/VertaAI/modeldb/blob/master/demos/webinar-2020-5-6/02-mdb_versioned/01-train/02%20Positive%20Data%20NLP.ipynb)\n",
    "- [webinar 2 code]()"
   ]
  },
  {
   "cell_type": "markdown",
   "metadata": {},
   "source": [
    "### Setting up Git for Notebook  and other settings"
   ]
  },
  {
   "cell_type": "markdown",
   "metadata": {},
   "source": [
    "ModelDB uses **git** for tracking model versions, this notebook should be in a proper git repository. Ensure that you've setup the repository with a git origin URL.\n",
    "\n",
    "Before running this notebook:\n",
    "- make sure ModelDB is running at localhost:3000\n",
    "- create a new test folder for this repo and run ```git init``` in it\n",
    "- in this new folder, set an origin ```git remote add origin <a_git_remote_location_for_code>.git``` "
   ]
  },
  {
   "cell_type": "markdown",
   "metadata": {},
   "source": [
    "### Imports\n",
    "- Scikit Learn (Dataset and models)\n",
    "- Verta (ModelDB API calls)\n",
    "- Itertools"
   ]
  },
  {
   "cell_type": "code",
   "execution_count": 192,
   "metadata": {},
   "outputs": [],
   "source": [
    "# imports and package installations\n",
    "import itertools\n",
    "try:\n",
    "    import sklearn\n",
    "except:\n",
    "    !pip3 install scikit-learn\n",
    "try:\n",
    "    import verta\n",
    "except:\n",
    "    !pip3 install "
   ]
  },
  {
   "cell_type": "markdown",
   "metadata": {},
   "source": [
    "### Importing a sample dataset\n",
    "The sklearn [digits](https://scikit-learn.org/stable/modules/generated/sklearn.datasets.load_digits.html) dataset is used and split into test and training components in a 1:2 ratio. "
   ]
  },
  {
   "cell_type": "code",
   "execution_count": 193,
   "metadata": {},
   "outputs": [],
   "source": [
    "# getting sample dataset\n",
    "from sklearn import datasets\n",
    "from sklearn.model_selection import train_test_split\n",
    "\n",
    "digits = datasets.load_digits()\n",
    "X_train, X_test, y_train, y_test = train_test_split(digits.data, digits.target, test_size=0.33)"
   ]
  },
  {
   "cell_type": "markdown",
   "metadata": {},
   "source": [
    "### Constants for ModelDB Naming and Behaviour\n",
    "\n",
    "Specify the the following:\n",
    "- Project Name\n",
    "- Experiment Name\n",
    "- Repository Name\n",
    "- Branch Name\n",
    "- *whether to marge branch to master*"
   ]
  },
  {
   "cell_type": "code",
   "execution_count": 196,
   "metadata": {},
   "outputs": [],
   "source": [
    "# Projects Constants\n",
    "HOST = \"http://localhost:3000\"\n",
    "PROJECT_NAME = \"Couture Sklearn Test\"\n",
    "EXPERIMENT_NAME = \"Experiment 1\"\n",
    "REPOSITORY_NAME = \"couture-sklearn-repo\"\n",
    "BRANCH_NAME = \"svm-test\"\n",
    "MERGE_TO_MASTER = True"
   ]
  },
  {
   "cell_type": "markdown",
   "metadata": {},
   "source": [
    "#### Setting up ModelDB Project, Experiment and Repository and Dataset"
   ]
  },
  {
   "cell_type": "code",
   "execution_count": 188,
   "metadata": {},
   "outputs": [
    {
     "name": "stdout",
     "output_type": "stream",
     "text": [
      "connection successfully established\n",
      "got existing Project: Couture Sklearn Test v9\n",
      "got existing Experiment: Experiment 1\n",
      "set existing Repository: couture-sklearn-v9 from personal workspace\n",
      "set existing Dataset: Test Dataset 1 from personal workspace\n",
      "created new DatasetVersion: 1\n"
     ]
    }
   ],
   "source": [
    "# setting up ModelDB project, experiment and repository\n",
    "from verta import Client\n",
    "from verta.utils import ModelAPI\n",
    "\n",
    "client = Client(HOST)\n",
    "proj = client.set_project(PROJECT_NAME)\n",
    "expt = client.set_experiment(EXPERIMENT_NAME)\n",
    "\n",
    "repo = client.set_repository(REPOSITORY_NAME)\n",
    "commit = repo.get_commit(branch='master').new_branch(BRANCH_NAME)\n",
    "\n",
    "dataset = client.set_dataset(name=\"Test Dataset 1\",\n",
    "                             type=\"local\")\n",
    "\n",
    "# arguments for create version depends on type of dataset\n",
    "dataset_version = dataset.create_version(path=\"digits.csv\")\n",
    "\n",
    "# run.log_dataset_version(\"training_data\", dataset_version)"
   ]
  },
  {
   "cell_type": "markdown",
   "metadata": {},
   "source": [
    "### Hyperparameters\n",
    "\n",
    "Multiple values can be specified for each hyperparameter and an experiment run would be generated for each possible combination of hyperparameter values. For example, if ```n``` values for *parameter A*, ```m``` values for *parameter B* and ```p``` values for *parameter C* are declared, then there would be a total fo ```m*n*p``` runs in the experiment.\n",
    "\n",
    "This behaviour can be changed by specifying what's wanted for ```itertools```. Check the documentation [here](https://docs.python.org/3/library/itertools.html)"
   ]
  },
  {
   "cell_type": "code",
   "execution_count": 189,
   "metadata": {},
   "outputs": [],
   "source": [
    "# set model hyperparameters\n",
    "hyperparam_candidates = {\n",
    "    'C': [90., 95.],\n",
    "    'gamma': [0.002, 0.001],\n",
    "}\n",
    "hyperparam_sets = [dict(zip(hyperparam_candidates.keys(), values))\n",
    "                   for values\n",
    "                   in itertools.product(*hyperparam_candidates.values())]"
   ]
  },
  {
   "cell_type": "markdown",
   "metadata": {},
   "source": [
    "### Experiment Runs\n",
    "This section is the heart of the code file where the model is defined, trained and experiment runs are conducted for provided combination of hyperparameters. The code is largely self-explanatory. In-line comments have been provided for readability."
   ]
  },
  {
   "cell_type": "code",
   "execution_count": 190,
   "metadata": {},
   "outputs": [
    {
     "data": {
      "application/javascript": [
       "\n",
       "    require([\"base/js/namespace\"],function(Jupyter) {\n",
       "        Jupyter.notebook.save_checkpoint();\n",
       "    });\n",
       "    "
      ],
      "text/plain": [
       "<IPython.core.display.Javascript object>"
      ]
     },
     "metadata": {},
     "output_type": "display_data"
    },
    {
     "name": "stdout",
     "output_type": "stream",
     "text": [
      "created new ExperimentRun: Run : 1\n",
      "Validation accuracy: 0.9815\n",
      "upload complete (custom_modules)\n",
      "upload complete (model.pkl)\n",
      "upload complete (model_api.json)\n",
      "Git repository successfully located at /home/kaushal/Projects/couture-ai/modeldb/test1/\n"
     ]
    },
    {
     "data": {
      "application/javascript": [
       "\n",
       "    require([\"base/js/namespace\"],function(Jupyter) {\n",
       "        Jupyter.notebook.save_checkpoint();\n",
       "    });\n",
       "    "
      ],
      "text/plain": [
       "<IPython.core.display.Javascript object>"
      ]
     },
     "metadata": {},
     "output_type": "display_data"
    },
    {
     "name": "stdout",
     "output_type": "stream",
     "text": [
      "created new ExperimentRun: Run : 2\n",
      "Validation accuracy: 0.9865\n",
      "upload complete (custom_modules)\n",
      "upload complete (model.pkl)\n",
      "upload complete (model_api.json)\n",
      "Git repository successfully located at /home/kaushal/Projects/couture-ai/modeldb/test1/\n"
     ]
    },
    {
     "data": {
      "application/javascript": [
       "\n",
       "    require([\"base/js/namespace\"],function(Jupyter) {\n",
       "        Jupyter.notebook.save_checkpoint();\n",
       "    });\n",
       "    "
      ],
      "text/plain": [
       "<IPython.core.display.Javascript object>"
      ]
     },
     "metadata": {},
     "output_type": "display_data"
    },
    {
     "name": "stdout",
     "output_type": "stream",
     "text": [
      "created new ExperimentRun: Run : 3\n",
      "Validation accuracy: 0.9815\n",
      "upload complete (custom_modules)\n",
      "upload complete (model.pkl)\n",
      "upload complete (model_api.json)\n",
      "Git repository successfully located at /home/kaushal/Projects/couture-ai/modeldb/test1/\n"
     ]
    },
    {
     "data": {
      "application/javascript": [
       "\n",
       "    require([\"base/js/namespace\"],function(Jupyter) {\n",
       "        Jupyter.notebook.save_checkpoint();\n",
       "    });\n",
       "    "
      ],
      "text/plain": [
       "<IPython.core.display.Javascript object>"
      ]
     },
     "metadata": {},
     "output_type": "display_data"
    },
    {
     "name": "stdout",
     "output_type": "stream",
     "text": [
      "created new ExperimentRun: Run : 4\n",
      "Validation accuracy: 0.9865\n",
      "upload complete (custom_modules)\n",
      "upload complete (model.pkl)\n",
      "upload complete (model_api.json)\n",
      "Git repository successfully located at /home/kaushal/Projects/couture-ai/modeldb/test1/\n"
     ]
    }
   ],
   "source": [
    "from verta.code import Notebook\n",
    "from verta.configuration import Hyperparameters\n",
    "from verta.environment import Python\n",
    "\n",
    "from sklearn import svm\n",
    "\n",
    "def run_experiment(hyperparams, index):\n",
    "    ...\n",
    "    code_ver = Notebook()\n",
    "    config_ver = Hyperparameters(hyperparams)\n",
    "    train_ver = digits.data\n",
    "    test_ver = digits.target\n",
    "    env_ver = Python(Python.read_pip_environment())\n",
    "\n",
    "    commit.update(\"notebooks/couture-sklearn-test\", code_ver)\n",
    "    commit.update(\"config/hyperparams\", config_ver)\n",
    "#     commit.update(\"data/train\", train_ver)\n",
    "#     commit.update(\"data/test\", test_ver)\n",
    "    commit.update(\"env/python\", env_ver)\n",
    "    commit.save(\"Hyperparameter tuning Run: \" + str(index))\n",
    "\n",
    "    # create object to track experiment run\n",
    "    run = client.set_experiment_run(\"Run : \" + str(index+1))\n",
    "    \n",
    "    # log hyperparameters\n",
    "    run.log_hyperparameters(hyperparams)\n",
    "    \n",
    "    # model definition\n",
    "    model = svm.SVC(**hyperparams)\n",
    "    \n",
    "    # model training\n",
    "    model.fit(X_train, y_train)\n",
    "    \n",
    "    # calculate and log validation accuracy\n",
    "    val_acc = model.score(X_test, y_test)\n",
    "    run.log_metric(\"val_acc\", val_acc)\n",
    "    print(\"Validation accuracy: {:.4f}\".format(val_acc))\n",
    "    \n",
    "    # save and log model\n",
    "    run.log_model(model)\n",
    "    \n",
    "    # log dataset snapshot as version\n",
    "    run.log_dataset_version(\"0.67 training set\", dataset_version)\n",
    "    \n",
    "#     log Git information as code version\n",
    "    run.log_code()\n",
    "    \n",
    "    run.log_commit(\n",
    "        commit,\n",
    "        {\n",
    "            'notebook': \"notebooks/couture-sklearn-test\",\n",
    "            'hyperparameters': \"config/hyperparams\",\n",
    "#             'training_data': \"data/train\",\n",
    "#             'test_data': \"data/test\",\n",
    "            'python_env': \"env/python\",\n",
    "        },\n",
    "    )\n",
    "     \n",
    "\n",
    "# to run all experiments\n",
    "for i, hyperparams in enumerate(hyperparam_sets):\n",
    "    run_experiment(hyperparams, i)"
   ]
  },
  {
   "cell_type": "code",
   "execution_count": 176,
   "metadata": {},
   "outputs": [
    {
     "name": "stdout",
     "output_type": "stream",
     "text": [
      "Commit 3c868fd588106ebf2d310398ac7efbe38c30dea48e571984f28751ea4708b635 (Branch: log-reg)\n",
      "Date: 2020-09-03 17:37:31\n",
      "\n",
      "    Hyperparameter tuning Run: 3\n",
      "\n",
      "Commit a4dd5a3da5310830f89bbe7f2b2a5821a141e7132dcfaf434f8d9f1b68f6ef4f\n",
      "Date: 2020-09-03 17:37:29\n",
      "\n",
      "    Hyperparameter tuning Run: 2\n",
      "\n",
      "Commit 63b7b5d8b93df6108f1eca1da467aba2a248cec279922ccadeaf09a81b88f6f4\n",
      "Date: 2020-09-03 17:37:26\n",
      "\n",
      "    Hyperparameter tuning Run: 1\n",
      "\n",
      "Commit 0fd9eaac0d08e421496466a0d00085d3917f9486c0777717422d0ae187004d5e\n",
      "Date: 2020-09-03 17:37:23\n",
      "\n",
      "    Hyperparameter tuning Run: 0\n",
      "\n",
      "Commit 81b14e128ad215c9977fef7b88225e86fc81a8bc1997ce9bf330b71910029924\n",
      "Date: 2020-09-03 17:01:15\n",
      "\n",
      "    Initial commit\n",
      "\n"
     ]
    }
   ],
   "source": [
    "# Print the commit log\n",
    "for c in commit.log():\n",
    "    print(c)"
   ]
  },
  {
   "cell_type": "code",
   "execution_count": 191,
   "metadata": {},
   "outputs": [],
   "source": [
    "# merge to master if specified in config\n",
    "master = repo.get_commit(branch='master')\n",
    "if MERGE_TO_MASTER == True:\n",
    "    master.merge(commit)"
   ]
  },
  {
   "cell_type": "markdown",
   "metadata": {},
   "source": [
    "### Get Best Run\n",
    "Look through the accuracy of all model experiment runs to retrieve the most successful experiment."
   ]
  },
  {
   "cell_type": "code",
   "execution_count": 178,
   "metadata": {},
   "outputs": [
    {
     "name": "stdout",
     "output_type": "stream",
     "text": [
      "Validation Accuracy: 0.9865\n",
      "Hyperparameters: {'C': 90, 'gamma': 0.0010000000474974513}\n"
     ]
    }
   ],
   "source": [
    "best_run = expt.expt_runs.sort(\"metrics.val_acc\", descending=True)[0]\n",
    "print(\"Validation Accuracy: {:.4f}\".format(best_run.get_metric(\"val_acc\")))\n",
    "\n",
    "best_hyperparams = best_run.get_hyperparameters()\n",
    "print(\"Hyperparameters: {}\".format(best_hyperparams))"
   ]
  }
 ],
 "metadata": {
  "kernelspec": {
   "display_name": "modeldbkernel",
   "language": "python",
   "name": "modeldbkernel"
  },
  "language_info": {
   "codemirror_mode": {
    "name": "ipython",
    "version": 3
   },
   "file_extension": ".py",
   "mimetype": "text/x-python",
   "name": "python",
   "nbconvert_exporter": "python",
   "pygments_lexer": "ipython3",
   "version": "3.6.9"
  }
 },
 "nbformat": 4,
 "nbformat_minor": 4
}
